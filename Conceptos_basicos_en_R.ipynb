{
  "nbformat": 4,
  "nbformat_minor": 0,
  "metadata": {
    "colab": {
      "name": "Conceptos basicos en R",
      "provenance": [],
      "collapsed_sections": [
        "x0TXC7Vc8l0y",
        "9ix04bL-8wJf",
        "DZKhGESC90ye",
        "rjy_ziSMCyHT",
        "QOKTsUyzz35d"
      ],
      "authorship_tag": "ABX9TyOXqU5PA3kDl/7w7VcQ1IP8",
      "include_colab_link": true
    },
    "kernelspec": {
      "name": "ir",
      "display_name": "R"
    }
  },
  "cells": [
    {
      "cell_type": "markdown",
      "metadata": {
        "id": "view-in-github",
        "colab_type": "text"
      },
      "source": [
        "<a href=\"https://colab.research.google.com/github/santiagoprado12/Curso-UPV-Machine-Learning-en-R/blob/main/Conceptos_basicos_en_R.ipynb\" target=\"_parent\"><img src=\"https://colab.research.google.com/assets/colab-badge.svg\" alt=\"Open In Colab\"/></a>"
      ]
    },
    {
      "cell_type": "markdown",
      "metadata": {
        "id": "x0TXC7Vc8l0y"
      },
      "source": [
        "# **Instalar paquetes y agregar librerias**"
      ]
    },
    {
      "cell_type": "code",
      "metadata": {
        "id": "Mu6plmelbMJP"
      },
      "source": [
        "install.packages(\"ROCR\")\n",
        "library(ROCR)"
      ],
      "execution_count": null,
      "outputs": []
    },
    {
      "cell_type": "markdown",
      "metadata": {
        "id": "9ix04bL-8wJf"
      },
      "source": [
        "# **Variables en R**"
      ]
    },
    {
      "cell_type": "markdown",
      "metadata": {
        "id": "7VG5edY99PDA"
      },
      "source": [
        " **Caracteristicas de variables:\n",
        "numero,\n",
        "numero complejo,\n",
        "texto,\n",
        "booleano**"
      ]
    },
    {
      "cell_type": "code",
      "metadata": {
        "id": "XeHWq1ufkVL-"
      },
      "source": [
        "x=4\n",
        "x\n",
        "y<-9\n",
        "y\n",
        "assign(\"j\",3.4)\n",
        "j\n",
        "etiqueta<-\"Hola\"\n",
        "etiqueta"
      ],
      "execution_count": null,
      "outputs": []
    },
    {
      "cell_type": "markdown",
      "metadata": {
        "id": "ECrmIySC9mvG"
      },
      "source": [
        " **Consultar caracteristicas devariables**"
      ]
    },
    {
      "cell_type": "code",
      "metadata": {
        "id": "9kozwrSu9b7S"
      },
      "source": [
        "mode(j)\n",
        "class(j)\n",
        "length(x)"
      ],
      "execution_count": null,
      "outputs": []
    },
    {
      "cell_type": "markdown",
      "metadata": {
        "id": "DZKhGESC90ye"
      },
      "source": [
        "# **Vectores en R**"
      ]
    },
    {
      "cell_type": "code",
      "metadata": {
        "id": "wOO6wbXA9xZP"
      },
      "source": [
        "x<-c(\"AVS\",\"DVC\",\"JPS\")\n",
        "x\n",
        "length(x)\n",
        "class(x)\n",
        "y<-c(1,3,4,5)\n",
        "y\n",
        "j<-c(1,2.3,3,4,5,6.2)\n",
        "j\n",
        "class(j)"
      ],
      "execution_count": null,
      "outputs": []
    },
    {
      "cell_type": "markdown",
      "metadata": {
        "id": "nWrc3ngJ-vMG"
      },
      "source": [
        "**Coercion explicita en vectores R**"
      ]
    },
    {
      "cell_type": "code",
      "metadata": {
        "id": "PwFzc2AL-1QB"
      },
      "source": [
        "u<-c(1,2,3,4)\n",
        "class(u)\n",
        "as.numeric(u)\n",
        "as.logical(u)\n",
        "as.character(u)\n",
        "x<-c(\"a\",\"b\",\"c\")\n",
        "mode(x)\n",
        "as.numeric(x)\n",
        "as.logical(x)"
      ],
      "execution_count": null,
      "outputs": []
    },
    {
      "cell_type": "markdown",
      "metadata": {
        "id": "i-wiAYwwAQ5j"
      },
      "source": [
        "**tomar valores de vectores**"
      ]
    },
    {
      "cell_type": "code",
      "metadata": {
        "id": "ZgNa3HqeAV-G"
      },
      "source": [
        "y\n",
        "y[2]\n",
        "y[4]"
      ],
      "execution_count": null,
      "outputs": []
    },
    {
      "cell_type": "markdown",
      "metadata": {
        "id": "R9bLVrbEAdan"
      },
      "source": [
        "**crear un vector vacio**"
      ]
    },
    {
      "cell_type": "code",
      "metadata": {
        "id": "5-Ke-_OzAgT1"
      },
      "source": [
        "g<-vector(\"numeric\",10)\n",
        "g\n",
        "k<-vector(\"character\",10)\n",
        "k"
      ],
      "execution_count": null,
      "outputs": []
    },
    {
      "cell_type": "markdown",
      "metadata": {
        "id": "ymNKHwAfBSrm"
      },
      "source": [
        "**operaciones con vectores**"
      ]
    },
    {
      "cell_type": "code",
      "metadata": {
        "id": "Xp2dPKnRBVgi"
      },
      "source": [
        "y\n",
        "p<-y*3\n",
        "p\n",
        "mean(p)\n",
        "median(p)\n",
        "var(p)\n",
        "min(p)\n",
        "max(p)\n",
        "range(p)\n",
        "length(p)\n",
        "log(p)\n",
        "exp(p)\n",
        "sin(p)\n",
        "cos(p)\n",
        "tan(p)\n",
        "sqrt(p)\n",
        "prod(p)\n",
        "sum(p)\n",
        "sort(p)\n",
        "sd(p) #desviacion estandar"
      ],
      "execution_count": null,
      "outputs": []
    },
    {
      "cell_type": "code",
      "metadata": {
        "id": "vWsLEvSICnVD"
      },
      "source": [
        "v<-c(\"rojo\", \"verde\", \"amarillo\", \"azul\", \"negro\")\n",
        "t<-c(v[0],v[4])\n",
        "t"
      ],
      "execution_count": null,
      "outputs": []
    },
    {
      "cell_type": "markdown",
      "metadata": {
        "id": "rjy_ziSMCyHT"
      },
      "source": [
        "# **Factores en R**\n",
        "\n",
        "**Permite separar valores de un vector de character en numeros, ocupan menos espacio y es mas facil de organizar**"
      ]
    },
    {
      "cell_type": "code",
      "metadata": {
        "id": "VhC6aJRyE2oR",
        "colab": {
          "base_uri": "https://localhost:8080/",
          "height": 136
        },
        "outputId": "cb70396e-22c7-4787-8c32-dab3377eb1da"
      },
      "source": [
        "mascotas<-c(\"perro\",\"gato\",\"perro\",\"pez\",\"loro\")\n",
        "mascotas\n",
        "Fmascotas<-factor(mascotas)\n",
        "Fmascotas\n",
        "mode(Fmascotas)\n",
        "table(Fmascotas)"
      ],
      "execution_count": null,
      "outputs": [
        {
          "output_type": "display_data",
          "data": {
            "text/plain": [
              "[1] \"perro\" \"gato\"  \"perro\" \"pez\"   \"loro\" "
            ],
            "text/latex": "\\begin{enumerate*}\n\\item 'perro'\n\\item 'gato'\n\\item 'perro'\n\\item 'pez'\n\\item 'loro'\n\\end{enumerate*}\n",
            "text/markdown": "1. 'perro'\n2. 'gato'\n3. 'perro'\n4. 'pez'\n5. 'loro'\n\n\n",
            "text/html": [
              "<style>\n",
              ".list-inline {list-style: none; margin:0; padding: 0}\n",
              ".list-inline>li {display: inline-block}\n",
              ".list-inline>li:not(:last-child)::after {content: \"\\00b7\"; padding: 0 .5ex}\n",
              "</style>\n",
              "<ol class=list-inline><li>'perro'</li><li>'gato'</li><li>'perro'</li><li>'pez'</li><li>'loro'</li></ol>\n"
            ]
          },
          "metadata": {
            "tags": []
          }
        },
        {
          "output_type": "display_data",
          "data": {
            "text/plain": [
              "[1] perro gato  perro pez   loro \n",
              "Levels: gato loro perro pez"
            ],
            "text/latex": "\\begin{enumerate*}\n\\item perro\n\\item gato\n\\item perro\n\\item pez\n\\item loro\n\\end{enumerate*}\n\n\\emph{Levels}: \\begin{enumerate*}\n\\item 'gato'\n\\item 'loro'\n\\item 'perro'\n\\item 'pez'\n\\end{enumerate*}\n",
            "text/markdown": "1. perro\n2. gato\n3. perro\n4. pez\n5. loro\n\n\n\n**Levels**: 1. 'gato'\n2. 'loro'\n3. 'perro'\n4. 'pez'\n\n\n",
            "text/html": [
              "<style>\n",
              ".list-inline {list-style: none; margin:0; padding: 0}\n",
              ".list-inline>li {display: inline-block}\n",
              ".list-inline>li:not(:last-child)::after {content: \"\\00b7\"; padding: 0 .5ex}\n",
              "</style>\n",
              "<ol class=list-inline><li>perro</li><li>gato</li><li>perro</li><li>pez</li><li>loro</li></ol>\n",
              "\n",
              "<details>\n",
              "\t<summary style=display:list-item;cursor:pointer>\n",
              "\t\t<strong>Levels</strong>:\n",
              "\t</summary>\n",
              "\t<style>\n",
              "\t.list-inline {list-style: none; margin:0; padding: 0}\n",
              "\t.list-inline>li {display: inline-block}\n",
              "\t.list-inline>li:not(:last-child)::after {content: \"\\00b7\"; padding: 0 .5ex}\n",
              "\t</style>\n",
              "\t<ol class=list-inline><li>'gato'</li><li>'loro'</li><li>'perro'</li><li>'pez'</li></ol>\n",
              "</details>"
            ]
          },
          "metadata": {
            "tags": []
          }
        },
        {
          "output_type": "display_data",
          "data": {
            "text/plain": [
              "[1] \"numeric\""
            ],
            "text/latex": "'numeric'",
            "text/markdown": "'numeric'",
            "text/html": [
              "'numeric'"
            ]
          },
          "metadata": {
            "tags": []
          }
        },
        {
          "output_type": "display_data",
          "data": {
            "text/plain": [
              "Fmascotas\n",
              " gato  loro perro   pez \n",
              "    1     1     2     1 "
            ]
          },
          "metadata": {
            "tags": []
          }
        }
      ]
    },
    {
      "cell_type": "markdown",
      "metadata": {
        "id": "XtavdCKUHKIG"
      },
      "source": [
        "**Funciones de los niveles(levels)**"
      ]
    },
    {
      "cell_type": "code",
      "metadata": {
        "id": "iymPamAzHRmu",
        "colab": {
          "base_uri": "https://localhost:8080/",
          "height": 68
        },
        "outputId": "e836d6dc-7c45-4d0f-a3a8-121bbe6d3e1f"
      },
      "source": [
        "niveles<-levels(Fmascotas)\n",
        "niveles\n",
        "\n",
        "Fmascotas1<-factor(mascotas,level=c(\"perro\",\"pez\",\"loro\",\"gato\"))\n",
        "Fmascotas1"
      ],
      "execution_count": null,
      "outputs": [
        {
          "output_type": "display_data",
          "data": {
            "text/plain": [
              "[1] \"gato\"  \"loro\"  \"perro\" \"pez\"  "
            ],
            "text/latex": "\\begin{enumerate*}\n\\item 'gato'\n\\item 'loro'\n\\item 'perro'\n\\item 'pez'\n\\end{enumerate*}\n",
            "text/markdown": "1. 'gato'\n2. 'loro'\n3. 'perro'\n4. 'pez'\n\n\n",
            "text/html": [
              "<style>\n",
              ".list-inline {list-style: none; margin:0; padding: 0}\n",
              ".list-inline>li {display: inline-block}\n",
              ".list-inline>li:not(:last-child)::after {content: \"\\00b7\"; padding: 0 .5ex}\n",
              "</style>\n",
              "<ol class=list-inline><li>'gato'</li><li>'loro'</li><li>'perro'</li><li>'pez'</li></ol>\n"
            ]
          },
          "metadata": {
            "tags": []
          }
        },
        {
          "output_type": "display_data",
          "data": {
            "text/plain": [
              "[1] perro gato  perro pez   loro \n",
              "Levels: perro pez loro gato"
            ],
            "text/latex": "\\begin{enumerate*}\n\\item perro\n\\item gato\n\\item perro\n\\item pez\n\\item loro\n\\end{enumerate*}\n\n\\emph{Levels}: \\begin{enumerate*}\n\\item 'perro'\n\\item 'pez'\n\\item 'loro'\n\\item 'gato'\n\\end{enumerate*}\n",
            "text/markdown": "1. perro\n2. gato\n3. perro\n4. pez\n5. loro\n\n\n\n**Levels**: 1. 'perro'\n2. 'pez'\n3. 'loro'\n4. 'gato'\n\n\n",
            "text/html": [
              "<style>\n",
              ".list-inline {list-style: none; margin:0; padding: 0}\n",
              ".list-inline>li {display: inline-block}\n",
              ".list-inline>li:not(:last-child)::after {content: \"\\00b7\"; padding: 0 .5ex}\n",
              "</style>\n",
              "<ol class=list-inline><li>perro</li><li>gato</li><li>perro</li><li>pez</li><li>loro</li></ol>\n",
              "\n",
              "<details>\n",
              "\t<summary style=display:list-item;cursor:pointer>\n",
              "\t\t<strong>Levels</strong>:\n",
              "\t</summary>\n",
              "\t<style>\n",
              "\t.list-inline {list-style: none; margin:0; padding: 0}\n",
              "\t.list-inline>li {display: inline-block}\n",
              "\t.list-inline>li:not(:last-child)::after {content: \"\\00b7\"; padding: 0 .5ex}\n",
              "\t</style>\n",
              "\t<ol class=list-inline><li>'perro'</li><li>'pez'</li><li>'loro'</li><li>'gato'</li></ol>\n",
              "</details>"
            ]
          },
          "metadata": {
            "tags": []
          }
        }
      ]
    },
    {
      "cell_type": "markdown",
      "metadata": {
        "id": "VcKDDULSxlLF"
      },
      "source": [
        "**Tablas de Factores**"
      ]
    },
    {
      "cell_type": "code",
      "metadata": {
        "id": "v7N3gttexqvj",
        "colab": {
          "base_uri": "https://localhost:8080/",
          "height": 493
        },
        "outputId": "239c8927-647e-48b9-b6bc-72ff291db6cc"
      },
      "source": [
        "Fduenos<-c(\"chico\",\"chica\",\"chica\",\"chico\",\"chica\")\n",
        "Fduenos<-factor(Fduenos)\n",
        "Fduenos\n",
        "Fmascotas\n",
        "t<-table(Fmascotas,Fduenos)\n",
        "t\n",
        "margin.table(t,1)\n",
        "margin.table(t,2)\n",
        "prop.table(t,1)\n",
        "prop.table(t,2)"
      ],
      "execution_count": null,
      "outputs": [
        {
          "output_type": "display_data",
          "data": {
            "text/plain": [
              "[1] chico chica chica chico chica\n",
              "Levels: chica chico"
            ],
            "text/latex": "\\begin{enumerate*}\n\\item chico\n\\item chica\n\\item chica\n\\item chico\n\\item chica\n\\end{enumerate*}\n\n\\emph{Levels}: \\begin{enumerate*}\n\\item 'chica'\n\\item 'chico'\n\\end{enumerate*}\n",
            "text/markdown": "1. chico\n2. chica\n3. chica\n4. chico\n5. chica\n\n\n\n**Levels**: 1. 'chica'\n2. 'chico'\n\n\n",
            "text/html": [
              "<style>\n",
              ".list-inline {list-style: none; margin:0; padding: 0}\n",
              ".list-inline>li {display: inline-block}\n",
              ".list-inline>li:not(:last-child)::after {content: \"\\00b7\"; padding: 0 .5ex}\n",
              "</style>\n",
              "<ol class=list-inline><li>chico</li><li>chica</li><li>chica</li><li>chico</li><li>chica</li></ol>\n",
              "\n",
              "<details>\n",
              "\t<summary style=display:list-item;cursor:pointer>\n",
              "\t\t<strong>Levels</strong>:\n",
              "\t</summary>\n",
              "\t<style>\n",
              "\t.list-inline {list-style: none; margin:0; padding: 0}\n",
              "\t.list-inline>li {display: inline-block}\n",
              "\t.list-inline>li:not(:last-child)::after {content: \"\\00b7\"; padding: 0 .5ex}\n",
              "\t</style>\n",
              "\t<ol class=list-inline><li>'chica'</li><li>'chico'</li></ol>\n",
              "</details>"
            ]
          },
          "metadata": {
            "tags": []
          }
        },
        {
          "output_type": "display_data",
          "data": {
            "text/plain": [
              "[1] perro gato  perro pez   loro \n",
              "Levels: gato loro perro pez"
            ],
            "text/latex": "\\begin{enumerate*}\n\\item perro\n\\item gato\n\\item perro\n\\item pez\n\\item loro\n\\end{enumerate*}\n\n\\emph{Levels}: \\begin{enumerate*}\n\\item 'gato'\n\\item 'loro'\n\\item 'perro'\n\\item 'pez'\n\\end{enumerate*}\n",
            "text/markdown": "1. perro\n2. gato\n3. perro\n4. pez\n5. loro\n\n\n\n**Levels**: 1. 'gato'\n2. 'loro'\n3. 'perro'\n4. 'pez'\n\n\n",
            "text/html": [
              "<style>\n",
              ".list-inline {list-style: none; margin:0; padding: 0}\n",
              ".list-inline>li {display: inline-block}\n",
              ".list-inline>li:not(:last-child)::after {content: \"\\00b7\"; padding: 0 .5ex}\n",
              "</style>\n",
              "<ol class=list-inline><li>perro</li><li>gato</li><li>perro</li><li>pez</li><li>loro</li></ol>\n",
              "\n",
              "<details>\n",
              "\t<summary style=display:list-item;cursor:pointer>\n",
              "\t\t<strong>Levels</strong>:\n",
              "\t</summary>\n",
              "\t<style>\n",
              "\t.list-inline {list-style: none; margin:0; padding: 0}\n",
              "\t.list-inline>li {display: inline-block}\n",
              "\t.list-inline>li:not(:last-child)::after {content: \"\\00b7\"; padding: 0 .5ex}\n",
              "\t</style>\n",
              "\t<ol class=list-inline><li>'gato'</li><li>'loro'</li><li>'perro'</li><li>'pez'</li></ol>\n",
              "</details>"
            ]
          },
          "metadata": {
            "tags": []
          }
        },
        {
          "output_type": "display_data",
          "data": {
            "text/plain": [
              "         Fduenos\n",
              "Fmascotas chica chico\n",
              "    gato      1     0\n",
              "    loro      1     0\n",
              "    perro     1     1\n",
              "    pez       0     1"
            ]
          },
          "metadata": {
            "tags": []
          }
        },
        {
          "output_type": "display_data",
          "data": {
            "text/plain": [
              "Fmascotas\n",
              " gato  loro perro   pez \n",
              "    1     1     2     1 "
            ]
          },
          "metadata": {
            "tags": []
          }
        },
        {
          "output_type": "display_data",
          "data": {
            "text/plain": [
              "Fduenos\n",
              "chica chico \n",
              "    3     2 "
            ]
          },
          "metadata": {
            "tags": []
          }
        },
        {
          "output_type": "display_data",
          "data": {
            "text/plain": [
              "         Fduenos\n",
              "Fmascotas chica chico\n",
              "    gato    1.0   0.0\n",
              "    loro    1.0   0.0\n",
              "    perro   0.5   0.5\n",
              "    pez     0.0   1.0"
            ]
          },
          "metadata": {
            "tags": []
          }
        },
        {
          "output_type": "display_data",
          "data": {
            "text/plain": [
              "         Fduenos\n",
              "Fmascotas     chica     chico\n",
              "    gato  0.3333333 0.0000000\n",
              "    loro  0.3333333 0.0000000\n",
              "    perro 0.3333333 0.5000000\n",
              "    pez   0.0000000 0.5000000"
            ]
          },
          "metadata": {
            "tags": []
          }
        }
      ]
    },
    {
      "cell_type": "code",
      "metadata": {
        "id": "Yqeu37trzc3T"
      },
      "source": [
        "profesiones<-c(\"panadero\" ,\"carpintero\" ,\"carpintero\" ,\"policía\" ,\"panadero\")\n",
        "fprof<-as.factor(profesiones)\n",
        "fprof\n",
        "table(fprof)[[2]]"
      ],
      "execution_count": null,
      "outputs": []
    },
    {
      "cell_type": "markdown",
      "metadata": {
        "id": "QOKTsUyzz35d"
      },
      "source": [
        "# **Secuencias en R** "
      ]
    },
    {
      "cell_type": "code",
      "metadata": {
        "id": "9Uk7EhEIz8zA"
      },
      "source": [
        "x<-1:15\n",
        "x\n",
        "y<-6:1\n",
        "y\n",
        "seq(0,5,0.5)#de 0 a 5 en paso de 0.5\n",
        "seq(length=10,1,0.5) #de 1 a 0.5 con 10 pasos\n",
        "rep(4,5) # 5 cuatros\n",
        "rep(10,2) #2 dieces"
      ],
      "execution_count": null,
      "outputs": []
    },
    {
      "cell_type": "markdown",
      "metadata": {
        "id": "NgkGvnv31wbQ"
      },
      "source": [
        "**Generar Factores usando Secuencias**"
      ]
    },
    {
      "cell_type": "code",
      "metadata": {
        "id": "YndbDD3C1v7_"
      },
      "source": [
        "gl(2,5,labels=c(\"chico\",\"chica\"))"
      ],
      "execution_count": null,
      "outputs": []
    },
    {
      "cell_type": "markdown",
      "metadata": {
        "id": "rTm-d1jP2VKE"
      },
      "source": [
        "**Generar secuencias aleatorias**"
      ]
    },
    {
      "cell_type": "code",
      "metadata": {
        "id": "Dq2tOSa92S2A"
      },
      "source": [
        "rnorm(10., mean=5,sd=0.3) #distribucion normal (Gaussiana) de 10 muestras con desviacion de 0.3 y media de 5\n",
        "runif(10, min=2, max=12) # distribucion uniforme de 10 muestras con valor minimo de 2 y maximo de 12\n",
        "rexp(10,rate = 1) #exponencial\n",
        "rgamma(10, shape<-1,scale = 1 ) #gamma\n",
        "rpois(10, lambda<-1) #Poisson\n",
        "rbeta(10,shape1<-1,shape2<-1) #beta\n",
        "rbinom(10, size<-1,pob<-1) #binomial\n",
        "rgeom(10, prob<-1) #geometrica"
      ],
      "execution_count": null,
      "outputs": []
    },
    {
      "cell_type": "markdown",
      "metadata": {
        "id": "tNzBvfVyOHyX"
      },
      "source": [
        "# **Estructuras de datos multidimensionales en R**"
      ]
    },
    {
      "cell_type": "markdown",
      "metadata": {
        "id": "vkEqQWfi5acV"
      },
      "source": [
        "\n",
        "**Matrices en R**"
      ]
    },
    {
      "cell_type": "code",
      "metadata": {
        "id": "2gSYMkPY5fJh"
      },
      "source": [
        "matrix(1:6,2,3,byrow=TRUE)\n",
        "matrix(1:6,2,3,byrow=FALSE)\n",
        "x<-matrix(1:6,2,3,byrow=FALSE)\n",
        "x[1,2]\n",
        "x[1,]\n",
        "x[,1]\n",
        "y<-1:6\n",
        "h<-10:5\n",
        "y\n",
        "h\n",
        "m<-cbind(h,y)\n",
        "m\n",
        "g<-rbind(h,y)\n",
        "g\n",
        "j<-1:15\n",
        "j\n",
        "dim(j)<-c(5,3)\n",
        "j\n",
        "a<-array(1:10,c(3,2,2))\n",
        "a"
      ],
      "execution_count": null,
      "outputs": []
    },
    {
      "cell_type": "code",
      "metadata": {
        "id": "3agjG3D0LyTF"
      },
      "source": [
        "d<-matrix (1:8,4,2 )\n",
        "d\n",
        "d[3,2]"
      ],
      "execution_count": null,
      "outputs": []
    },
    {
      "cell_type": "markdown",
      "metadata": {
        "id": "XsWtIgcgONsP"
      },
      "source": [
        "**Listas en R**"
      ]
    },
    {
      "cell_type": "code",
      "metadata": {
        "id": "MjeWhmcDORol",
        "colab": {
          "base_uri": "https://localhost:8080/",
          "height": 577
        },
        "outputId": "968bec21-64a0-47bc-fcf9-ae99d9527384"
      },
      "source": [
        "animal<-list(orden=\"carnivoro\",familia=\"felinos\",nombre=\"lince\")\n",
        "animal\n",
        "animal[1]\n",
        "animal[[1]]\n",
        "animal$orden\n",
        "animal$clase<-c(\"vertebrado\",\"mamifero\")\n",
        "unlist(animal)\n",
        "lapply(animal,length)\n",
        "sapply(animal,length)\n",
        "valores<-list(a=1:4,b=rnorm(10),c=rnorm(20,mean = 1),d=rnorm(100,5))\n",
        "lapply(valores,mean)\n",
        "sapply(valores,mean)"
      ],
      "execution_count": null,
      "outputs": [
        {
          "output_type": "display_data",
          "data": {
            "text/plain": [
              "$orden\n",
              "[1] \"carnivoro\"\n",
              "\n",
              "$familia\n",
              "[1] \"felinos\"\n",
              "\n",
              "$nombre\n",
              "[1] \"lince\"\n"
            ],
            "text/latex": "\\begin{description}\n\\item[\\$orden] 'carnivoro'\n\\item[\\$familia] 'felinos'\n\\item[\\$nombre] 'lince'\n\\end{description}\n",
            "text/markdown": "$orden\n:   'carnivoro'\n$familia\n:   'felinos'\n$nombre\n:   'lince'\n\n\n",
            "text/html": [
              "<dl>\n",
              "\t<dt>$orden</dt>\n",
              "\t\t<dd>'carnivoro'</dd>\n",
              "\t<dt>$familia</dt>\n",
              "\t\t<dd>'felinos'</dd>\n",
              "\t<dt>$nombre</dt>\n",
              "\t\t<dd>'lince'</dd>\n",
              "</dl>\n"
            ]
          },
          "metadata": {
            "tags": []
          }
        },
        {
          "output_type": "display_data",
          "data": {
            "text/plain": [
              "$orden\n",
              "[1] \"carnivoro\"\n"
            ],
            "text/latex": "\\textbf{\\$orden} = 'carnivoro'",
            "text/markdown": "**$orden** = 'carnivoro'",
            "text/html": [
              "<strong>$orden</strong> = 'carnivoro'"
            ]
          },
          "metadata": {
            "tags": []
          }
        },
        {
          "output_type": "display_data",
          "data": {
            "text/plain": [
              "[1] \"carnivoro\""
            ],
            "text/latex": "'carnivoro'",
            "text/markdown": "'carnivoro'",
            "text/html": [
              "'carnivoro'"
            ]
          },
          "metadata": {
            "tags": []
          }
        },
        {
          "output_type": "display_data",
          "data": {
            "text/plain": [
              "[1] \"carnivoro\""
            ],
            "text/latex": "'carnivoro'",
            "text/markdown": "'carnivoro'",
            "text/html": [
              "'carnivoro'"
            ]
          },
          "metadata": {
            "tags": []
          }
        },
        {
          "output_type": "display_data",
          "data": {
            "text/plain": [
              "       orden      familia       nombre       clase1       clase2 \n",
              " \"carnivoro\"    \"felinos\"      \"lince\" \"vertebrado\"   \"mamifero\" "
            ],
            "text/latex": "\\begin{description*}\n\\item[orden] 'carnivoro'\n\\item[familia] 'felinos'\n\\item[nombre] 'lince'\n\\item[clase1] 'vertebrado'\n\\item[clase2] 'mamifero'\n\\end{description*}\n",
            "text/markdown": "orden\n:   'carnivoro'familia\n:   'felinos'nombre\n:   'lince'clase1\n:   'vertebrado'clase2\n:   'mamifero'\n\n",
            "text/html": [
              "<style>\n",
              ".dl-inline {width: auto; margin:0; padding: 0}\n",
              ".dl-inline>dt, .dl-inline>dd {float: none; width: auto; display: inline-block}\n",
              ".dl-inline>dt::after {content: \":\\0020\"; padding-right: .5ex}\n",
              ".dl-inline>dt:not(:first-of-type) {padding-left: .5ex}\n",
              "</style><dl class=dl-inline><dt>orden</dt><dd>'carnivoro'</dd><dt>familia</dt><dd>'felinos'</dd><dt>nombre</dt><dd>'lince'</dd><dt>clase1</dt><dd>'vertebrado'</dd><dt>clase2</dt><dd>'mamifero'</dd></dl>\n"
            ]
          },
          "metadata": {
            "tags": []
          }
        },
        {
          "output_type": "display_data",
          "data": {
            "text/plain": [
              "$orden\n",
              "[1] 1\n",
              "\n",
              "$familia\n",
              "[1] 1\n",
              "\n",
              "$nombre\n",
              "[1] 1\n",
              "\n",
              "$clase\n",
              "[1] 2\n"
            ],
            "text/latex": "\\begin{description}\n\\item[\\$orden] 1\n\\item[\\$familia] 1\n\\item[\\$nombre] 1\n\\item[\\$clase] 2\n\\end{description}\n",
            "text/markdown": "$orden\n:   1\n$familia\n:   1\n$nombre\n:   1\n$clase\n:   2\n\n\n",
            "text/html": [
              "<dl>\n",
              "\t<dt>$orden</dt>\n",
              "\t\t<dd>1</dd>\n",
              "\t<dt>$familia</dt>\n",
              "\t\t<dd>1</dd>\n",
              "\t<dt>$nombre</dt>\n",
              "\t\t<dd>1</dd>\n",
              "\t<dt>$clase</dt>\n",
              "\t\t<dd>2</dd>\n",
              "</dl>\n"
            ]
          },
          "metadata": {
            "tags": []
          }
        },
        {
          "output_type": "display_data",
          "data": {
            "text/plain": [
              "  orden familia  nombre   clase \n",
              "      1       1       1       2 "
            ],
            "text/latex": "\\begin{description*}\n\\item[orden] 1\n\\item[familia] 1\n\\item[nombre] 1\n\\item[clase] 2\n\\end{description*}\n",
            "text/markdown": "orden\n:   1familia\n:   1nombre\n:   1clase\n:   2\n\n",
            "text/html": [
              "<style>\n",
              ".dl-inline {width: auto; margin:0; padding: 0}\n",
              ".dl-inline>dt, .dl-inline>dd {float: none; width: auto; display: inline-block}\n",
              ".dl-inline>dt::after {content: \":\\0020\"; padding-right: .5ex}\n",
              ".dl-inline>dt:not(:first-of-type) {padding-left: .5ex}\n",
              "</style><dl class=dl-inline><dt>orden</dt><dd>1</dd><dt>familia</dt><dd>1</dd><dt>nombre</dt><dd>1</dd><dt>clase</dt><dd>2</dd></dl>\n"
            ]
          },
          "metadata": {
            "tags": []
          }
        },
        {
          "output_type": "display_data",
          "data": {
            "text/plain": [
              "$a\n",
              "[1] 2.5\n",
              "\n",
              "$b\n",
              "[1] 0.2336915\n",
              "\n",
              "$c\n",
              "[1] 1.092487\n",
              "\n",
              "$d\n",
              "[1] 4.955187\n"
            ],
            "text/latex": "\\begin{description}\n\\item[\\$a] 2.5\n\\item[\\$b] 0.233691459149356\n\\item[\\$c] 1.0924871029515\n\\item[\\$d] 4.95518675639081\n\\end{description}\n",
            "text/markdown": "$a\n:   2.5\n$b\n:   0.233691459149356\n$c\n:   1.0924871029515\n$d\n:   4.95518675639081\n\n\n",
            "text/html": [
              "<dl>\n",
              "\t<dt>$a</dt>\n",
              "\t\t<dd>2.5</dd>\n",
              "\t<dt>$b</dt>\n",
              "\t\t<dd>0.233691459149356</dd>\n",
              "\t<dt>$c</dt>\n",
              "\t\t<dd>1.0924871029515</dd>\n",
              "\t<dt>$d</dt>\n",
              "\t\t<dd>4.95518675639081</dd>\n",
              "</dl>\n"
            ]
          },
          "metadata": {
            "tags": []
          }
        },
        {
          "output_type": "display_data",
          "data": {
            "text/plain": [
              "        a         b         c         d \n",
              "2.5000000 0.2336915 1.0924871 4.9551868 "
            ],
            "text/latex": "\\begin{description*}\n\\item[a] 2.5\n\\item[b] 0.233691459149356\n\\item[c] 1.0924871029515\n\\item[d] 4.95518675639081\n\\end{description*}\n",
            "text/markdown": "a\n:   2.5b\n:   0.233691459149356c\n:   1.0924871029515d\n:   4.95518675639081\n\n",
            "text/html": [
              "<style>\n",
              ".dl-inline {width: auto; margin:0; padding: 0}\n",
              ".dl-inline>dt, .dl-inline>dd {float: none; width: auto; display: inline-block}\n",
              ".dl-inline>dt::after {content: \":\\0020\"; padding-right: .5ex}\n",
              ".dl-inline>dt:not(:first-of-type) {padding-left: .5ex}\n",
              "</style><dl class=dl-inline><dt>a</dt><dd>2.5</dd><dt>b</dt><dd>0.233691459149356</dd><dt>c</dt><dd>1.0924871029515</dd><dt>d</dt><dd>4.95518675639081</dd></dl>\n"
            ]
          },
          "metadata": {
            "tags": []
          }
        }
      ]
    },
    {
      "cell_type": "markdown",
      "metadata": {
        "id": "kw2flz4dD1hy"
      },
      "source": [
        "***Data.frame en R***"
      ]
    },
    {
      "cell_type": "code",
      "metadata": {
        "id": "AhBDFKC686oI",
        "colab": {
          "base_uri": "https://localhost:8080/",
          "height": 1000
        },
        "outputId": "8119e83e-6d2e-4efa-a695-7a88423fdbfb"
      },
      "source": [
        "d<-data.frame(nombre=c(\"ana\",\"pepe\",\"manolo\",\"rosa\",\"maria\"),edad=c(21,34,54,27,41))\n",
        "d\n",
        "ciudad<-c(\"valencia\",\"barcelona\",\"madrid\",\"valencia\",\"valencia\")\n",
        "trabajo<-c(\"estudiante\",\"comerciante\",\"ingeniero\",\"medico\",\"periodista\")\n",
        "d2<-cbind(ciudad,trabajo,d)\n",
        "d2\n",
        "d2[[1]]\n",
        "d2[1]\n",
        "d2[1,]\n",
        "d2[,1]\n",
        "d2[3,1]\n",
        "d2$ciudad\n",
        "d2$edad\n",
        "nrow(d2)\n",
        "ncol(d2)\n",
        "print(\"desde aca\")\n",
        "d2[d2$ciudad==\"valencia\",c(\"nombre\",\"edad\")]\n",
        "d2[d2$edad>35,]\n",
        "subset(d2,ciudad==\"valencia\",trabajo:edad)\n",
        "d3<-transform(d,edad=-edad)\n",
        "d3"
      ],
      "execution_count": null,
      "outputs": [
        {
          "output_type": "display_data",
          "data": {
            "text/plain": [
              "  nombre edad\n",
              "1 ana    21  \n",
              "2 pepe   34  \n",
              "3 manolo 54  \n",
              "4 rosa   27  \n",
              "5 maria  41  "
            ],
            "text/latex": "A data.frame: 5 × 2\n\\begin{tabular}{ll}\n nombre & edad\\\\\n <chr> & <dbl>\\\\\n\\hline\n\t ana    & 21\\\\\n\t pepe   & 34\\\\\n\t manolo & 54\\\\\n\t rosa   & 27\\\\\n\t maria  & 41\\\\\n\\end{tabular}\n",
            "text/markdown": "\nA data.frame: 5 × 2\n\n| nombre &lt;chr&gt; | edad &lt;dbl&gt; |\n|---|---|\n| ana    | 21 |\n| pepe   | 34 |\n| manolo | 54 |\n| rosa   | 27 |\n| maria  | 41 |\n\n",
            "text/html": [
              "<table>\n",
              "<caption>A data.frame: 5 × 2</caption>\n",
              "<thead>\n",
              "\t<tr><th scope=col>nombre</th><th scope=col>edad</th></tr>\n",
              "\t<tr><th scope=col>&lt;chr&gt;</th><th scope=col>&lt;dbl&gt;</th></tr>\n",
              "</thead>\n",
              "<tbody>\n",
              "\t<tr><td>ana   </td><td>21</td></tr>\n",
              "\t<tr><td>pepe  </td><td>34</td></tr>\n",
              "\t<tr><td>manolo</td><td>54</td></tr>\n",
              "\t<tr><td>rosa  </td><td>27</td></tr>\n",
              "\t<tr><td>maria </td><td>41</td></tr>\n",
              "</tbody>\n",
              "</table>\n"
            ]
          },
          "metadata": {
            "tags": []
          }
        },
        {
          "output_type": "display_data",
          "data": {
            "text/plain": [
              "  ciudad    trabajo     nombre edad\n",
              "1 valencia  estudiante  ana    21  \n",
              "2 barcelona comerciante pepe   34  \n",
              "3 madrid    ingeniero   manolo 54  \n",
              "4 valencia  medico      rosa   27  \n",
              "5 valencia  periodista  maria  41  "
            ],
            "text/latex": "A data.frame: 5 × 4\n\\begin{tabular}{llll}\n ciudad & trabajo & nombre & edad\\\\\n <chr> & <chr> & <chr> & <dbl>\\\\\n\\hline\n\t valencia  & estudiante  & ana    & 21\\\\\n\t barcelona & comerciante & pepe   & 34\\\\\n\t madrid    & ingeniero   & manolo & 54\\\\\n\t valencia  & medico      & rosa   & 27\\\\\n\t valencia  & periodista  & maria  & 41\\\\\n\\end{tabular}\n",
            "text/markdown": "\nA data.frame: 5 × 4\n\n| ciudad &lt;chr&gt; | trabajo &lt;chr&gt; | nombre &lt;chr&gt; | edad &lt;dbl&gt; |\n|---|---|---|---|\n| valencia  | estudiante  | ana    | 21 |\n| barcelona | comerciante | pepe   | 34 |\n| madrid    | ingeniero   | manolo | 54 |\n| valencia  | medico      | rosa   | 27 |\n| valencia  | periodista  | maria  | 41 |\n\n",
            "text/html": [
              "<table>\n",
              "<caption>A data.frame: 5 × 4</caption>\n",
              "<thead>\n",
              "\t<tr><th scope=col>ciudad</th><th scope=col>trabajo</th><th scope=col>nombre</th><th scope=col>edad</th></tr>\n",
              "\t<tr><th scope=col>&lt;chr&gt;</th><th scope=col>&lt;chr&gt;</th><th scope=col>&lt;chr&gt;</th><th scope=col>&lt;dbl&gt;</th></tr>\n",
              "</thead>\n",
              "<tbody>\n",
              "\t<tr><td>valencia </td><td>estudiante </td><td>ana   </td><td>21</td></tr>\n",
              "\t<tr><td>barcelona</td><td>comerciante</td><td>pepe  </td><td>34</td></tr>\n",
              "\t<tr><td>madrid   </td><td>ingeniero  </td><td>manolo</td><td>54</td></tr>\n",
              "\t<tr><td>valencia </td><td>medico     </td><td>rosa  </td><td>27</td></tr>\n",
              "\t<tr><td>valencia </td><td>periodista </td><td>maria </td><td>41</td></tr>\n",
              "</tbody>\n",
              "</table>\n"
            ]
          },
          "metadata": {
            "tags": []
          }
        },
        {
          "output_type": "display_data",
          "data": {
            "text/plain": [
              "[1] \"valencia\"  \"barcelona\" \"madrid\"    \"valencia\"  \"valencia\" "
            ],
            "text/latex": "\\begin{enumerate*}\n\\item 'valencia'\n\\item 'barcelona'\n\\item 'madrid'\n\\item 'valencia'\n\\item 'valencia'\n\\end{enumerate*}\n",
            "text/markdown": "1. 'valencia'\n2. 'barcelona'\n3. 'madrid'\n4. 'valencia'\n5. 'valencia'\n\n\n",
            "text/html": [
              "<style>\n",
              ".list-inline {list-style: none; margin:0; padding: 0}\n",
              ".list-inline>li {display: inline-block}\n",
              ".list-inline>li:not(:last-child)::after {content: \"\\00b7\"; padding: 0 .5ex}\n",
              "</style>\n",
              "<ol class=list-inline><li>'valencia'</li><li>'barcelona'</li><li>'madrid'</li><li>'valencia'</li><li>'valencia'</li></ol>\n"
            ]
          },
          "metadata": {
            "tags": []
          }
        },
        {
          "output_type": "display_data",
          "data": {
            "text/plain": [
              "  ciudad   \n",
              "1 valencia \n",
              "2 barcelona\n",
              "3 madrid   \n",
              "4 valencia \n",
              "5 valencia "
            ],
            "text/latex": "A data.frame: 5 × 1\n\\begin{tabular}{l}\n ciudad\\\\\n <chr>\\\\\n\\hline\n\t valencia \\\\\n\t barcelona\\\\\n\t madrid   \\\\\n\t valencia \\\\\n\t valencia \\\\\n\\end{tabular}\n",
            "text/markdown": "\nA data.frame: 5 × 1\n\n| ciudad &lt;chr&gt; |\n|---|\n| valencia  |\n| barcelona |\n| madrid    |\n| valencia  |\n| valencia  |\n\n",
            "text/html": [
              "<table>\n",
              "<caption>A data.frame: 5 × 1</caption>\n",
              "<thead>\n",
              "\t<tr><th scope=col>ciudad</th></tr>\n",
              "\t<tr><th scope=col>&lt;chr&gt;</th></tr>\n",
              "</thead>\n",
              "<tbody>\n",
              "\t<tr><td>valencia </td></tr>\n",
              "\t<tr><td>barcelona</td></tr>\n",
              "\t<tr><td>madrid   </td></tr>\n",
              "\t<tr><td>valencia </td></tr>\n",
              "\t<tr><td>valencia </td></tr>\n",
              "</tbody>\n",
              "</table>\n"
            ]
          },
          "metadata": {
            "tags": []
          }
        },
        {
          "output_type": "display_data",
          "data": {
            "text/plain": [
              "  ciudad   trabajo    nombre edad\n",
              "1 valencia estudiante ana    21  "
            ],
            "text/latex": "A data.frame: 1 × 4\n\\begin{tabular}{r|llll}\n  & ciudad & trabajo & nombre & edad\\\\\n  & <chr> & <chr> & <chr> & <dbl>\\\\\n\\hline\n\t1 & valencia & estudiante & ana & 21\\\\\n\\end{tabular}\n",
            "text/markdown": "\nA data.frame: 1 × 4\n\n| <!--/--> | ciudad &lt;chr&gt; | trabajo &lt;chr&gt; | nombre &lt;chr&gt; | edad &lt;dbl&gt; |\n|---|---|---|---|---|\n| 1 | valencia | estudiante | ana | 21 |\n\n",
            "text/html": [
              "<table>\n",
              "<caption>A data.frame: 1 × 4</caption>\n",
              "<thead>\n",
              "\t<tr><th></th><th scope=col>ciudad</th><th scope=col>trabajo</th><th scope=col>nombre</th><th scope=col>edad</th></tr>\n",
              "\t<tr><th></th><th scope=col>&lt;chr&gt;</th><th scope=col>&lt;chr&gt;</th><th scope=col>&lt;chr&gt;</th><th scope=col>&lt;dbl&gt;</th></tr>\n",
              "</thead>\n",
              "<tbody>\n",
              "\t<tr><th scope=row>1</th><td>valencia</td><td>estudiante</td><td>ana</td><td>21</td></tr>\n",
              "</tbody>\n",
              "</table>\n"
            ]
          },
          "metadata": {
            "tags": []
          }
        },
        {
          "output_type": "display_data",
          "data": {
            "text/plain": [
              "[1] \"valencia\"  \"barcelona\" \"madrid\"    \"valencia\"  \"valencia\" "
            ],
            "text/latex": "\\begin{enumerate*}\n\\item 'valencia'\n\\item 'barcelona'\n\\item 'madrid'\n\\item 'valencia'\n\\item 'valencia'\n\\end{enumerate*}\n",
            "text/markdown": "1. 'valencia'\n2. 'barcelona'\n3. 'madrid'\n4. 'valencia'\n5. 'valencia'\n\n\n",
            "text/html": [
              "<style>\n",
              ".list-inline {list-style: none; margin:0; padding: 0}\n",
              ".list-inline>li {display: inline-block}\n",
              ".list-inline>li:not(:last-child)::after {content: \"\\00b7\"; padding: 0 .5ex}\n",
              "</style>\n",
              "<ol class=list-inline><li>'valencia'</li><li>'barcelona'</li><li>'madrid'</li><li>'valencia'</li><li>'valencia'</li></ol>\n"
            ]
          },
          "metadata": {
            "tags": []
          }
        },
        {
          "output_type": "display_data",
          "data": {
            "text/plain": [
              "[1] \"madrid\""
            ],
            "text/latex": "'madrid'",
            "text/markdown": "'madrid'",
            "text/html": [
              "'madrid'"
            ]
          },
          "metadata": {
            "tags": []
          }
        },
        {
          "output_type": "display_data",
          "data": {
            "text/plain": [
              "[1] \"valencia\"  \"barcelona\" \"madrid\"    \"valencia\"  \"valencia\" "
            ],
            "text/latex": "\\begin{enumerate*}\n\\item 'valencia'\n\\item 'barcelona'\n\\item 'madrid'\n\\item 'valencia'\n\\item 'valencia'\n\\end{enumerate*}\n",
            "text/markdown": "1. 'valencia'\n2. 'barcelona'\n3. 'madrid'\n4. 'valencia'\n5. 'valencia'\n\n\n",
            "text/html": [
              "<style>\n",
              ".list-inline {list-style: none; margin:0; padding: 0}\n",
              ".list-inline>li {display: inline-block}\n",
              ".list-inline>li:not(:last-child)::after {content: \"\\00b7\"; padding: 0 .5ex}\n",
              "</style>\n",
              "<ol class=list-inline><li>'valencia'</li><li>'barcelona'</li><li>'madrid'</li><li>'valencia'</li><li>'valencia'</li></ol>\n"
            ]
          },
          "metadata": {
            "tags": []
          }
        },
        {
          "output_type": "display_data",
          "data": {
            "text/plain": [
              "[1] 21 34 54 27 41"
            ],
            "text/latex": "\\begin{enumerate*}\n\\item 21\n\\item 34\n\\item 54\n\\item 27\n\\item 41\n\\end{enumerate*}\n",
            "text/markdown": "1. 21\n2. 34\n3. 54\n4. 27\n5. 41\n\n\n",
            "text/html": [
              "<style>\n",
              ".list-inline {list-style: none; margin:0; padding: 0}\n",
              ".list-inline>li {display: inline-block}\n",
              ".list-inline>li:not(:last-child)::after {content: \"\\00b7\"; padding: 0 .5ex}\n",
              "</style>\n",
              "<ol class=list-inline><li>21</li><li>34</li><li>54</li><li>27</li><li>41</li></ol>\n"
            ]
          },
          "metadata": {
            "tags": []
          }
        },
        {
          "output_type": "display_data",
          "data": {
            "text/plain": [
              "[1] 5"
            ],
            "text/latex": "5",
            "text/markdown": "5",
            "text/html": [
              "5"
            ]
          },
          "metadata": {
            "tags": []
          }
        },
        {
          "output_type": "display_data",
          "data": {
            "text/plain": [
              "[1] 4"
            ],
            "text/latex": "4",
            "text/markdown": "4",
            "text/html": [
              "4"
            ]
          },
          "metadata": {
            "tags": []
          }
        },
        {
          "output_type": "stream",
          "text": [
            "[1] \"desde aca\"\n"
          ],
          "name": "stdout"
        },
        {
          "output_type": "display_data",
          "data": {
            "text/plain": [
              "  nombre edad\n",
              "1 ana    21  \n",
              "4 rosa   27  \n",
              "5 maria  41  "
            ],
            "text/latex": "A data.frame: 3 × 2\n\\begin{tabular}{r|ll}\n  & nombre & edad\\\\\n  & <chr> & <dbl>\\\\\n\\hline\n\t1 & ana   & 21\\\\\n\t4 & rosa  & 27\\\\\n\t5 & maria & 41\\\\\n\\end{tabular}\n",
            "text/markdown": "\nA data.frame: 3 × 2\n\n| <!--/--> | nombre &lt;chr&gt; | edad &lt;dbl&gt; |\n|---|---|---|\n| 1 | ana   | 21 |\n| 4 | rosa  | 27 |\n| 5 | maria | 41 |\n\n",
            "text/html": [
              "<table>\n",
              "<caption>A data.frame: 3 × 2</caption>\n",
              "<thead>\n",
              "\t<tr><th></th><th scope=col>nombre</th><th scope=col>edad</th></tr>\n",
              "\t<tr><th></th><th scope=col>&lt;chr&gt;</th><th scope=col>&lt;dbl&gt;</th></tr>\n",
              "</thead>\n",
              "<tbody>\n",
              "\t<tr><th scope=row>1</th><td>ana  </td><td>21</td></tr>\n",
              "\t<tr><th scope=row>4</th><td>rosa </td><td>27</td></tr>\n",
              "\t<tr><th scope=row>5</th><td>maria</td><td>41</td></tr>\n",
              "</tbody>\n",
              "</table>\n"
            ]
          },
          "metadata": {
            "tags": []
          }
        },
        {
          "output_type": "display_data",
          "data": {
            "text/plain": [
              "  ciudad   trabajo    nombre edad\n",
              "3 madrid   ingeniero  manolo 54  \n",
              "5 valencia periodista maria  41  "
            ],
            "text/latex": "A data.frame: 2 × 4\n\\begin{tabular}{r|llll}\n  & ciudad & trabajo & nombre & edad\\\\\n  & <chr> & <chr> & <chr> & <dbl>\\\\\n\\hline\n\t3 & madrid   & ingeniero  & manolo & 54\\\\\n\t5 & valencia & periodista & maria  & 41\\\\\n\\end{tabular}\n",
            "text/markdown": "\nA data.frame: 2 × 4\n\n| <!--/--> | ciudad &lt;chr&gt; | trabajo &lt;chr&gt; | nombre &lt;chr&gt; | edad &lt;dbl&gt; |\n|---|---|---|---|---|\n| 3 | madrid   | ingeniero  | manolo | 54 |\n| 5 | valencia | periodista | maria  | 41 |\n\n",
            "text/html": [
              "<table>\n",
              "<caption>A data.frame: 2 × 4</caption>\n",
              "<thead>\n",
              "\t<tr><th></th><th scope=col>ciudad</th><th scope=col>trabajo</th><th scope=col>nombre</th><th scope=col>edad</th></tr>\n",
              "\t<tr><th></th><th scope=col>&lt;chr&gt;</th><th scope=col>&lt;chr&gt;</th><th scope=col>&lt;chr&gt;</th><th scope=col>&lt;dbl&gt;</th></tr>\n",
              "</thead>\n",
              "<tbody>\n",
              "\t<tr><th scope=row>3</th><td>madrid  </td><td>ingeniero </td><td>manolo</td><td>54</td></tr>\n",
              "\t<tr><th scope=row>5</th><td>valencia</td><td>periodista</td><td>maria </td><td>41</td></tr>\n",
              "</tbody>\n",
              "</table>\n"
            ]
          },
          "metadata": {
            "tags": []
          }
        },
        {
          "output_type": "display_data",
          "data": {
            "text/plain": [
              "  trabajo    nombre edad\n",
              "1 estudiante ana    21  \n",
              "4 medico     rosa   27  \n",
              "5 periodista maria  41  "
            ],
            "text/latex": "A data.frame: 3 × 3\n\\begin{tabular}{r|lll}\n  & trabajo & nombre & edad\\\\\n  & <chr> & <chr> & <dbl>\\\\\n\\hline\n\t1 & estudiante & ana   & 21\\\\\n\t4 & medico     & rosa  & 27\\\\\n\t5 & periodista & maria & 41\\\\\n\\end{tabular}\n",
            "text/markdown": "\nA data.frame: 3 × 3\n\n| <!--/--> | trabajo &lt;chr&gt; | nombre &lt;chr&gt; | edad &lt;dbl&gt; |\n|---|---|---|---|\n| 1 | estudiante | ana   | 21 |\n| 4 | medico     | rosa  | 27 |\n| 5 | periodista | maria | 41 |\n\n",
            "text/html": [
              "<table>\n",
              "<caption>A data.frame: 3 × 3</caption>\n",
              "<thead>\n",
              "\t<tr><th></th><th scope=col>trabajo</th><th scope=col>nombre</th><th scope=col>edad</th></tr>\n",
              "\t<tr><th></th><th scope=col>&lt;chr&gt;</th><th scope=col>&lt;chr&gt;</th><th scope=col>&lt;dbl&gt;</th></tr>\n",
              "</thead>\n",
              "<tbody>\n",
              "\t<tr><th scope=row>1</th><td>estudiante</td><td>ana  </td><td>21</td></tr>\n",
              "\t<tr><th scope=row>4</th><td>medico    </td><td>rosa </td><td>27</td></tr>\n",
              "\t<tr><th scope=row>5</th><td>periodista</td><td>maria</td><td>41</td></tr>\n",
              "</tbody>\n",
              "</table>\n"
            ]
          },
          "metadata": {
            "tags": []
          }
        },
        {
          "output_type": "display_data",
          "data": {
            "text/plain": [
              "  nombre edad\n",
              "1 ana    -21 \n",
              "2 pepe   -34 \n",
              "3 manolo -54 \n",
              "4 rosa   -27 \n",
              "5 maria  -41 "
            ],
            "text/latex": "A data.frame: 5 × 2\n\\begin{tabular}{ll}\n nombre & edad\\\\\n <chr> & <dbl>\\\\\n\\hline\n\t ana    & -21\\\\\n\t pepe   & -34\\\\\n\t manolo & -54\\\\\n\t rosa   & -27\\\\\n\t maria  & -41\\\\\n\\end{tabular}\n",
            "text/markdown": "\nA data.frame: 5 × 2\n\n| nombre &lt;chr&gt; | edad &lt;dbl&gt; |\n|---|---|\n| ana    | -21 |\n| pepe   | -34 |\n| manolo | -54 |\n| rosa   | -27 |\n| maria  | -41 |\n\n",
            "text/html": [
              "<table>\n",
              "<caption>A data.frame: 5 × 2</caption>\n",
              "<thead>\n",
              "\t<tr><th scope=col>nombre</th><th scope=col>edad</th></tr>\n",
              "\t<tr><th scope=col>&lt;chr&gt;</th><th scope=col>&lt;dbl&gt;</th></tr>\n",
              "</thead>\n",
              "<tbody>\n",
              "\t<tr><td>ana   </td><td>-21</td></tr>\n",
              "\t<tr><td>pepe  </td><td>-34</td></tr>\n",
              "\t<tr><td>manolo</td><td>-54</td></tr>\n",
              "\t<tr><td>rosa  </td><td>-27</td></tr>\n",
              "\t<tr><td>maria </td><td>-41</td></tr>\n",
              "</tbody>\n",
              "</table>\n"
            ]
          },
          "metadata": {
            "tags": []
          }
        }
      ]
    },
    {
      "cell_type": "markdown",
      "metadata": {
        "id": "hwpCtixgHtmL"
      },
      "source": [
        "**Datos faltantes, ordenacion y nombres en vectores de R**"
      ]
    },
    {
      "cell_type": "code",
      "metadata": {
        "id": "VfcojxP9H0F6"
      },
      "source": [
        "x<-1:3\n",
        "names(x)<-c(\"primero\",\"segundo\",\"tercero\")\n",
        "x\n",
        "t<-c(T,F,NA,FALSE)\n",
        "t\n",
        "is.na(t) #esta vacio?\n",
        "is.nan(t) #son numericos?\n",
        "is.nan(0/0) #es una indeterminacion?\n",
        "x<-c(1,2,NA,4,NA,5)\n",
        "x\n",
        "bad<-is.na(x)\n",
        "x[!bad]\n",
        "x<-c(1,2,NA,4,NA,5)\n",
        "y<-c(\"a\",NA,NA,\"d\",\"e\",\"f\")\n",
        "good<-complete.cases(x,y)\n",
        "good\n",
        "x[good]\n",
        "y[good]\n",
        "ciudad<-c(\"valencia\",\"barcelona\",\"madrid\",\"valencia\",\"valencia\",\"valencia\")\n",
        "trabajo<-c(\"estudiante\",\"comerciante\",\"ingeniero\",\"medico\",\"periodista\",NA)\n",
        "d<-data.frame(nombre=c(\"ana\",\"pepe\",\"manolo\",\"rosa\",\"maria\",NA),edad=c(21,34,54,27,41,20))\n",
        "d2<-cbind(ciudad,trabajo,d)\n",
        "d2\n",
        "d2[complete.cases(d2),]\n",
        "d2[!is.na(d2[\"trabajo\"]),]\n",
        "x<-c(\"auu\",\"1uu\",\"Auu\")\n",
        "order(x)\n",
        "sort(x)\n",
        "y<-c(1,2,2,4,4,5)\n",
        "unique(y)\n",
        "duplicated(y)"
      ],
      "execution_count": null,
      "outputs": []
    },
    {
      "cell_type": "markdown",
      "metadata": {
        "id": "e_E6GeVpo2ih"
      },
      "source": [
        "**Importar datos en R**"
      ]
    },
    {
      "cell_type": "code",
      "metadata": {
        "id": "9e_zljYfo6mq"
      },
      "source": [
        "table<-read.table(\"tabla.txt\")\n",
        "table\n"
      ],
      "execution_count": null,
      "outputs": []
    },
    {
      "cell_type": "markdown",
      "metadata": {
        "id": "nUPG-Y2RvepU"
      },
      "source": [
        "# **Graficos en R**"
      ]
    },
    {
      "cell_type": "code",
      "metadata": {
        "id": "O__YYb4UwIfT"
      },
      "source": [
        "demo(graphics)\n",
        "dev.copy2pdf(file=\"grafico.pdf\")\n",
        "dev.list()\n",
        "dev.cur()\n",
        "getwd()\n",
        "#setwd()"
      ],
      "execution_count": null,
      "outputs": []
    },
    {
      "cell_type": "markdown",
      "metadata": {
        "id": "0T2fWYJS1IdO"
      },
      "source": [
        "**Graficos de alto y bajo nivel**\n",
        "\n",
        "\n"
      ]
    },
    {
      "cell_type": "code",
      "metadata": {
        "id": "ZNlAZ5bCxsUg"
      },
      "source": [
        "#hay 2 tipos de graficos, de alto nivel que grafica los valores de una variable (plot, pie,boxplot, barplot, hist), con parametroas como add, axes, type, xlim,ylim,xlab,ylab,main,sub y por ultimo los de bajo nivel que son puntos, lineas y ejes que se agregan a graficos que ta se han construido\n",
        "x<-1:15\n",
        "y<-rnorm(15)\n",
        "plot(x,y,type=\"o\",pch=9,col=\"blue\",lwd=2,xlab=\"numeros consecutivos\",ylab=\"numeros normalmente distribuidos\")#alto nivel\n",
        "title(\"EjemplodePLOT\",col.main=\"pink3\")#bajo nivel\n",
        "hist(y,col=\"red\",xlab=\" numeros segun una normal \",ylab=\" Frecuencia \")\n",
        "z<-rep(1,15)\n",
        "pie(z,col=\"rainbow\"(15))\n",
        "title(\"ejemplo grafico tipo tarta\",col.main=\"purple3\")\n",
        "#la libreria ggplot es mas compleja y util, manual en: https://www.datanalytics.com/libro_r/introduccion-a-ggplot2.html"
      ],
      "execution_count": null,
      "outputs": []
    },
    {
      "cell_type": "markdown",
      "metadata": {
        "id": "KdCimiYH1U4g"
      },
      "source": [
        "**Añadir colores a gráficas x,y en plot con un tercer atributo de los datos**"
      ]
    },
    {
      "cell_type": "code",
      "metadata": {
        "colab": {
          "base_uri": "https://localhost:8080/",
          "height": 1000
        },
        "id": "G3zKdzNY1df2",
        "outputId": "df0d559e-3823-451b-a250-764cc500bdf1"
      },
      "source": [
        "data(iris) #dataset incorporado en R\n",
        "summary(iris)\n",
        "plot(x=iris$Sepal.Length,y=iris$Sepal.Width)\n",
        "plot(x=iris$Sepal.Length,y=iris$Sepal.Width,col=c(\"green\",\"blue\",\"red\")[iris$Species]) #Cambio de color segun especie\n",
        "plot(x=iris$Sepal.Length,y=iris$Sepal.Width,col=c(\"green\",\"blue\",\"red\")[iris$Species],pch=c(\"x\",\"o\",\"i\")[iris$Species]) #cambio de forma y color segun la especie\n",
        "iris$Species"
      ],
      "execution_count": null,
      "outputs": [
        {
          "output_type": "display_data",
          "data": {
            "text/plain": [
              "  Sepal.Length    Sepal.Width     Petal.Length    Petal.Width   \n",
              " Min.   :4.300   Min.   :2.000   Min.   :1.000   Min.   :0.100  \n",
              " 1st Qu.:5.100   1st Qu.:2.800   1st Qu.:1.600   1st Qu.:0.300  \n",
              " Median :5.800   Median :3.000   Median :4.350   Median :1.300  \n",
              " Mean   :5.843   Mean   :3.057   Mean   :3.758   Mean   :1.199  \n",
              " 3rd Qu.:6.400   3rd Qu.:3.300   3rd Qu.:5.100   3rd Qu.:1.800  \n",
              " Max.   :7.900   Max.   :4.400   Max.   :6.900   Max.   :2.500  \n",
              "       Species  \n",
              " setosa    :50  \n",
              " versicolor:50  \n",
              " virginica :50  \n",
              "                \n",
              "                \n",
              "                "
            ]
          },
          "metadata": {
            "tags": []
          }
        },
        {
          "output_type": "display_data",
          "data": {
            "image/png": "[encoded data removed]",
            "text/plain": [
              "plot without title"
            ]
          },
          "metadata": {
            "tags": [],
            "image/png": {
              "width": 420,
              "height": 420
            }
          }
        },
        {
          "output_type": "display_data",
          "data": {
            "image/png": "[encoded data removed]",
            "text/plain": [
              "plot without title"
            ]
          },
          "metadata": {
            "tags": [],
            "image/png": {
              "width": 420,
              "height": 420
            }
          }
        },
        {
          "output_type": "display_data",
          "data": {
            "text/plain": [
              "  [1] setosa     setosa     setosa     setosa     setosa     setosa    \n",
              "  [7] setosa     setosa     setosa     setosa     setosa     setosa    \n",
              " [13] setosa     setosa     setosa     setosa     setosa     setosa    \n",
              " [19] setosa     setosa     setosa     setosa     setosa     setosa    \n",
              " [25] setosa     setosa     setosa     setosa     setosa     setosa    \n",
              " [31] setosa     setosa     setosa     setosa     setosa     setosa    \n",
              " [37] setosa     setosa     setosa     setosa     setosa     setosa    \n",
              " [43] setosa     setosa     setosa     setosa     setosa     setosa    \n",
              " [49] setosa     setosa     versicolor versicolor versicolor versicolor\n",
              " [55] versicolor versicolor versicolor versicolor versicolor versicolor\n",
              " [61] versicolor versicolor versicolor versicolor versicolor versicolor\n",
              " [67] versicolor versicolor versicolor versicolor versicolor versicolor\n",
              " [73] versicolor versicolor versicolor versicolor versicolor versicolor\n",
              " [79] versicolor versicolor versicolor versicolor versicolor versicolor\n",
              " [85] versicolor versicolor versicolor versicolor versicolor versicolor\n",
              " [91] versicolor versicolor versicolor versicolor versicolor versicolor\n",
              " [97] versicolor versicolor versicolor versicolor virginica  virginica \n",
              "[103] virginica  virginica  virginica  virginica  virginica  virginica \n",
              "[109] virginica  virginica  virginica  virginica  virginica  virginica \n",
              "[115] virginica  virginica  virginica  virginica  virginica  virginica \n",
              "[121] virginica  virginica  virginica  virginica  virginica  virginica \n",
              "[127] virginica  virginica  virginica  virginica  virginica  virginica \n",
              "[133] virginica  virginica  virginica  virginica  virginica  virginica \n",
              "[139] virginica  virginica  virginica  virginica  virginica  virginica \n",
              "[145] virginica  virginica  virginica  virginica  virginica  virginica \n",
              "Levels: setosa versicolor virginica"
            ],
            "text/latex": "\\begin{enumerate*}\n\\item setosa\n\\item setosa\n\\item setosa\n\\item setosa\n\\item setosa\n\\item setosa\n\\item setosa\n\\item setosa\n\\item setosa\n\\item setosa\n\\item setosa\n\\item setosa\n\\item setosa\n\\item setosa\n\\item setosa\n\\item setosa\n\\item setosa\n\\item setosa\n\\item setosa\n\\item setosa\n\\item setosa\n\\item setosa\n\\item setosa\n\\item setosa\n\\item setosa\n\\item setosa\n\\item setosa\n\\item setosa\n\\item setosa\n\\item setosa\n\\item setosa\n\\item setosa\n\\item setosa\n\\item setosa\n\\item setosa\n\\item setosa\n\\item setosa\n\\item setosa\n\\item setosa\n\\item setosa\n\\item setosa\n\\item setosa\n\\item setosa\n\\item setosa\n\\item setosa\n\\item setosa\n\\item setosa\n\\item setosa\n\\item setosa\n\\item setosa\n\\item versicolor\n\\item versicolor\n\\item versicolor\n\\item versicolor\n\\item versicolor\n\\item versicolor\n\\item versicolor\n\\item versicolor\n\\item versicolor\n\\item versicolor\n\\item versicolor\n\\item versicolor\n\\item versicolor\n\\item versicolor\n\\item versicolor\n\\item versicolor\n\\item versicolor\n\\item versicolor\n\\item versicolor\n\\item versicolor\n\\item versicolor\n\\item versicolor\n\\item versicolor\n\\item versicolor\n\\item versicolor\n\\item versicolor\n\\item versicolor\n\\item versicolor\n\\item versicolor\n\\item versicolor\n\\item versicolor\n\\item versicolor\n\\item versicolor\n\\item versicolor\n\\item versicolor\n\\item versicolor\n\\item versicolor\n\\item versicolor\n\\item versicolor\n\\item versicolor\n\\item versicolor\n\\item versicolor\n\\item versicolor\n\\item versicolor\n\\item versicolor\n\\item versicolor\n\\item versicolor\n\\item versicolor\n\\item versicolor\n\\item versicolor\n\\item virginica\n\\item virginica\n\\item virginica\n\\item virginica\n\\item virginica\n\\item virginica\n\\item virginica\n\\item virginica\n\\item virginica\n\\item virginica\n\\item virginica\n\\item virginica\n\\item virginica\n\\item virginica\n\\item virginica\n\\item virginica\n\\item virginica\n\\item virginica\n\\item virginica\n\\item virginica\n\\item virginica\n\\item virginica\n\\item virginica\n\\item virginica\n\\item virginica\n\\item virginica\n\\item virginica\n\\item virginica\n\\item virginica\n\\item virginica\n\\item virginica\n\\item virginica\n\\item virginica\n\\item virginica\n\\item virginica\n\\item virginica\n\\item virginica\n\\item virginica\n\\item virginica\n\\item virginica\n\\item virginica\n\\item virginica\n\\item virginica\n\\item virginica\n\\item virginica\n\\item virginica\n\\item virginica\n\\item virginica\n\\item virginica\n\\item virginica\n\\end{enumerate*}\n\n\\emph{Levels}: \\begin{enumerate*}\n\\item 'setosa'\n\\item 'versicolor'\n\\item 'virginica'\n\\end{enumerate*}\n",
            "text/markdown": "1. setosa\n2. setosa\n3. setosa\n4. setosa\n5. setosa\n6. setosa\n7. setosa\n8. setosa\n9. setosa\n10. setosa\n11. setosa\n12. setosa\n13. setosa\n14. setosa\n15. setosa\n16. setosa\n17. setosa\n18. setosa\n19. setosa\n20. setosa\n21. setosa\n22. setosa\n23. setosa\n24. setosa\n25. setosa\n26. setosa\n27. setosa\n28. setosa\n29. setosa\n30. setosa\n31. setosa\n32. setosa\n33. setosa\n34. setosa\n35. setosa\n36. setosa\n37. setosa\n38. setosa\n39. setosa\n40. setosa\n41. setosa\n42. setosa\n43. setosa\n44. setosa\n45. setosa\n46. setosa\n47. setosa\n48. setosa\n49. setosa\n50. setosa\n51. versicolor\n52. versicolor\n53. versicolor\n54. versicolor\n55. versicolor\n56. versicolor\n57. versicolor\n58. versicolor\n59. versicolor\n60. versicolor\n61. versicolor\n62. versicolor\n63. versicolor\n64. versicolor\n65. versicolor\n66. versicolor\n67. versicolor\n68. versicolor\n69. versicolor\n70. versicolor\n71. versicolor\n72. versicolor\n73. versicolor\n74. versicolor\n75. versicolor\n76. versicolor\n77. versicolor\n78. versicolor\n79. versicolor\n80. versicolor\n81. versicolor\n82. versicolor\n83. versicolor\n84. versicolor\n85. versicolor\n86. versicolor\n87. versicolor\n88. versicolor\n89. versicolor\n90. versicolor\n91. versicolor\n92. versicolor\n93. versicolor\n94. versicolor\n95. versicolor\n96. versicolor\n97. versicolor\n98. versicolor\n99. versicolor\n100. versicolor\n101. virginica\n102. virginica\n103. virginica\n104. virginica\n105. virginica\n106. virginica\n107. virginica\n108. virginica\n109. virginica\n110. virginica\n111. virginica\n112. virginica\n113. virginica\n114. virginica\n115. virginica\n116. virginica\n117. virginica\n118. virginica\n119. virginica\n120. virginica\n121. virginica\n122. virginica\n123. virginica\n124. virginica\n125. virginica\n126. virginica\n127. virginica\n128. virginica\n129. virginica\n130. virginica\n131. virginica\n132. virginica\n133. virginica\n134. virginica\n135. virginica\n136. virginica\n137. virginica\n138. virginica\n139. virginica\n140. virginica\n141. virginica\n142. virginica\n143. virginica\n144. virginica\n145. virginica\n146. virginica\n147. virginica\n148. virginica\n149. virginica\n150. virginica\n\n\n\n**Levels**: 1. 'setosa'\n2. 'versicolor'\n3. 'virginica'\n\n\n",
            "text/html": [
              "<style>\n",
              ".list-inline {list-style: none; margin:0; padding: 0}\n",
              ".list-inline>li {display: inline-block}\n",
              ".list-inline>li:not(:last-child)::after {content: \"\\00b7\"; padding: 0 .5ex}\n",
              "</style>\n",
              "<ol class=list-inline><li>setosa</li><li>setosa</li><li>setosa</li><li>setosa</li><li>setosa</li><li>setosa</li><li>setosa</li><li>setosa</li><li>setosa</li><li>setosa</li><li>setosa</li><li>setosa</li><li>setosa</li><li>setosa</li><li>setosa</li><li>setosa</li><li>setosa</li><li>setosa</li><li>setosa</li><li>setosa</li><li>setosa</li><li>setosa</li><li>setosa</li><li>setosa</li><li>setosa</li><li>setosa</li><li>setosa</li><li>setosa</li><li>setosa</li><li>setosa</li><li>setosa</li><li>setosa</li><li>setosa</li><li>setosa</li><li>setosa</li><li>setosa</li><li>setosa</li><li>setosa</li><li>setosa</li><li>setosa</li><li>setosa</li><li>setosa</li><li>setosa</li><li>setosa</li><li>setosa</li><li>setosa</li><li>setosa</li><li>setosa</li><li>setosa</li><li>setosa</li><li>versicolor</li><li>versicolor</li><li>versicolor</li><li>versicolor</li><li>versicolor</li><li>versicolor</li><li>versicolor</li><li>versicolor</li><li>versicolor</li><li>versicolor</li><li>versicolor</li><li>versicolor</li><li>versicolor</li><li>versicolor</li><li>versicolor</li><li>versicolor</li><li>versicolor</li><li>versicolor</li><li>versicolor</li><li>versicolor</li><li>versicolor</li><li>versicolor</li><li>versicolor</li><li>versicolor</li><li>versicolor</li><li>versicolor</li><li>versicolor</li><li>versicolor</li><li>versicolor</li><li>versicolor</li><li>versicolor</li><li>versicolor</li><li>versicolor</li><li>versicolor</li><li>versicolor</li><li>versicolor</li><li>versicolor</li><li>versicolor</li><li>versicolor</li><li>versicolor</li><li>versicolor</li><li>versicolor</li><li>versicolor</li><li>versicolor</li><li>versicolor</li><li>versicolor</li><li>versicolor</li><li>versicolor</li><li>versicolor</li><li>versicolor</li><li>virginica</li><li>virginica</li><li>virginica</li><li>virginica</li><li>virginica</li><li>virginica</li><li>virginica</li><li>virginica</li><li>virginica</li><li>virginica</li><li>virginica</li><li>virginica</li><li>virginica</li><li>virginica</li><li>virginica</li><li>virginica</li><li>virginica</li><li>virginica</li><li>virginica</li><li>virginica</li><li>virginica</li><li>virginica</li><li>virginica</li><li>virginica</li><li>virginica</li><li>virginica</li><li>virginica</li><li>virginica</li><li>virginica</li><li>virginica</li><li>virginica</li><li>virginica</li><li>virginica</li><li>virginica</li><li>virginica</li><li>virginica</li><li>virginica</li><li>virginica</li><li>virginica</li><li>virginica</li><li>virginica</li><li>virginica</li><li>virginica</li><li>virginica</li><li>virginica</li><li>virginica</li><li>virginica</li><li>virginica</li><li>virginica</li><li>virginica</li></ol>\n",
              "\n",
              "<details>\n",
              "\t<summary style=display:list-item;cursor:pointer>\n",
              "\t\t<strong>Levels</strong>:\n",
              "\t</summary>\n",
              "\t<style>\n",
              "\t.list-inline {list-style: none; margin:0; padding: 0}\n",
              "\t.list-inline>li {display: inline-block}\n",
              "\t.list-inline>li:not(:last-child)::after {content: \"\\00b7\"; padding: 0 .5ex}\n",
              "\t</style>\n",
              "\t<ol class=list-inline><li>'setosa'</li><li>'versicolor'</li><li>'virginica'</li></ol>\n",
              "</details>"
            ]
          },
          "metadata": {
            "tags": []
          }
        },
        {
          "output_type": "display_data",
          "data": {
            "image/png": "[encoded data removed]",
            "text/plain": [
              "plot without title"
            ]
          },
          "metadata": {
            "tags": [],
            "image/png": {
              "width": 420,
              "height": 420
            }
          }
        }
      ]
    },
    {
      "cell_type": "markdown",
      "metadata": {
        "id": "-uAdmq-63M_B"
      },
      "source": [
        "# **Examen 1**"
      ]
    },
    {
      "cell_type": "code",
      "metadata": {
        "id": "ENeLi_ji3TiC"
      },
      "source": [
        "set.seed(100)\n",
        "x<-runif(20, min = 0, max = 1)\n",
        "print(\"media\")\n",
        "mean(x)\n",
        "print(\"mediana\")\n",
        "median(x)\n",
        "print(\"desviacion\")\n",
        "sd(x)"
      ],
      "execution_count": null,
      "outputs": []
    },
    {
      "cell_type": "code",
      "metadata": {
        "id": "pLhBDe1k7Nn2"
      },
      "source": [
        "students<-read.table(\"data1.txt\")\n",
        "names(students)<-c(\"height\", \"shoesize\", \"gender\", \"population\")\n",
        "students\n",
        "f1<-factor(students[,\"population\"])\n",
        "f1\n",
        "f2<-factor(students[,\"gender\"])\n",
        "f2\n",
        "table(f2,f1)"
      ],
      "execution_count": null,
      "outputs": []
    },
    {
      "cell_type": "code",
      "metadata": {
        "id": "DmP691Yn_Zkk"
      },
      "source": [
        "altura<-students[,\"height\"]\n",
        "alturamedia<-mean(altura)\n",
        "alturamedia\n",
        "\n",
        "students.short<-subset(students,height<=alturamedia,)\n",
        "students.short\n",
        "\n",
        "students.tall<-subset(students,height>alturamedia,)\n",
        "students.tall\n",
        "\n",
        "media.short.kuopio<-mean(subset(students.short,population==\"kuopio\",\"shoesize\")[,1])\n",
        "media.short.kuopio\n",
        "\n",
        "media.short.tampere<-mean(subset(students.short,population==\"tampere\",\"shoesize\")[,1])\n",
        "media.short.tampere\n",
        "\n",
        "media.tall.kuopio<-mean(subset(students.tall,population==\"kuopio\",\"shoesize\")[,1])\n",
        "media.tall.kuopio\n",
        "\n",
        "media.tall.tampere<-mean(subset(students.tall,population==\"tampere\",\"shoesize\")[,1])\n",
        "media.tall.tampere"
      ],
      "execution_count": null,
      "outputs": []
    },
    {
      "cell_type": "code",
      "metadata": {
        "id": "kF2tKVFKGpyg"
      },
      "source": [
        "\n",
        "f5<-factor(students$gender)\n",
        "f5\n",
        "c(\"pink3\",\"blue\")[f5]\n",
        "\n",
        "plot(students[,\"height\"],students[,\"shoesize\"],col=c(\"pink3\",\"blue\")[f5],pch=c(\"x\",\"o\")[f5],lwd=2,xlab=\"height\",ylab=\"shoe size\")"
      ],
      "execution_count": null,
      "outputs": []
    }
  ]
}