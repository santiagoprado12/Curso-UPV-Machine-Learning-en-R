{
  "nbformat": 4,
  "nbformat_minor": 0,
  "metadata": {
    "colab": {
      "name": "Practica 3",
      "provenance": [],
      "collapsed_sections": [],
      "authorship_tag": "ABX9TyOVG7+R/+OumIMOlVrp/U6W",
      "include_colab_link": true
    },
    "kernelspec": {
      "name": "ir",
      "display_name": "R"
    }
  },
  "cells": [
    {
      "cell_type": "markdown",
      "metadata": {
        "id": "view-in-github",
        "colab_type": "text"
      },
      "source": [
        "<a href=\"https://colab.research.google.com/github/santiagoprado12/Curso-UPV-Machine-Learning-en-R/blob/main/Practica_3.ipynb\" target=\"_parent\"><img src=\"https://colab.research.google.com/assets/colab-badge.svg\" alt=\"Open In Colab\"/></a>"
      ]
    },
    {
      "cell_type": "code",
      "metadata": {
        "colab": {
          "base_uri": "https://localhost:8080/"
        },
        "id": "Oz83pjuOICAw",
        "outputId": "6e611e83-0ad3-425f-9053-ed92a72826b3"
      },
      "source": [
        "install.packages(\"rpart\")\r\n",
        "install.packages(\"nnet\")"
      ],
      "execution_count": null,
      "outputs": [
        {
          "output_type": "stream",
          "text": [
            "Installing package into ‘/usr/local/lib/R/site-library’\n",
            "(as ‘lib’ is unspecified)\n",
            "\n",
            "Installing package into ‘/usr/local/lib/R/site-library’\n",
            "(as ‘lib’ is unspecified)\n",
            "\n"
          ],
          "name": "stderr"
        }
      ]
    },
    {
      "cell_type": "code",
      "metadata": {
        "id": "Xc3UxDpmIP1Q"
      },
      "source": [
        "library(rpart)\r\n",
        "library(nnet)"
      ],
      "execution_count": null,
      "outputs": []
    },
    {
      "cell_type": "code",
      "metadata": {
        "id": "8pGy8PLCFhc1"
      },
      "source": [
        "zillow <- read.csv2(\"/content/HousePricesData-Address-City-Features_fromZillow.csv\")\r\n",
        "\r\n",
        "zillow<-zillow[,!names(zillow) %in% \"street\", drop=F]\r\n",
        "\r\n",
        "str(zillow)\r\n"
      ],
      "execution_count": null,
      "outputs": []
    },
    {
      "cell_type": "code",
      "metadata": {
        "id": "wWaDT975HkUN"
      },
      "source": [
        "tam_muestra <- floor(0.75 * nrow(zillow))\r\n",
        "set.seed(123)\r\n",
        "train_ind <- sample(seq_len(nrow(zillow)),size= tam_muestra)  \r\n",
        "train <- zillow[train_ind , ]  \r\n",
        "test <- zillow[-train_ind , ]"
      ],
      "execution_count": null,
      "outputs": []
    },
    {
      "cell_type": "code",
      "metadata": {
        "id": "MfBA6bU9IcLz"
      },
      "source": [
        "model.lm<-lm(price~zipcode+year+bath+bed+rooms+SqFt, data=train)\r\n",
        "\r\n",
        "model.cart<- rpart(price~zipcode+year+bath+bed+rooms+SqFt,method=\"anova\",data=train)\r\n",
        "\r\n",
        "model.nn<-nnet(price~zipcode+year+bath+bed+rooms+SqFt,data=train, size =12, skip=TRUE,linout=TRUE,decay=0.025)"
      ],
      "execution_count": null,
      "outputs": []
    },
    {
      "cell_type": "code",
      "metadata": {
        "id": "oQ0D3BBPJBGK"
      },
      "source": [
        "print(\"MODELO LINEAL ////////////////////////////////////////////////////////////////////////////////////////////////////////////////////////////\")\r\n",
        "summary(model.lm)\r\n",
        "print(\"ARBOL DE REGRESION  //////////////////////////////////////////////////////////////////////////////////////////////////////////////////////\")\r\n",
        "summary(model.cart)\r\n",
        "print(\"RED NEURONAL /////////////////////////////////////////////////////////////////////////////////////////////////////////////////////////////\")\r\n",
        "summary(model.nn)"
      ],
      "execution_count": null,
      "outputs": []
    },
    {
      "cell_type": "code",
      "metadata": {
        "id": "WSdNs3ZNK1Vp"
      },
      "source": [
        "RMSE = function(p, o){\r\n",
        "  sqrt(mean((p - o)^2))\r\n",
        "}\r\n",
        "MAE = function(p, o){\r\n",
        " mean(abs(p - o))\r\n",
        "}"
      ],
      "execution_count": null,
      "outputs": []
    },
    {
      "cell_type": "code",
      "metadata": {
        "id": "-C_tkc1vJzD5"
      },
      "source": [
        "print(\"MODELO LINEAL ////////////////////////////////////////////////////////////////////////////////////////////////////////////////////////////\")\r\n",
        "valorreal<-zillow$price\r\n",
        "valores<-predict(model.lm,zillow)\r\n",
        "RMSE(valorreal,valores)\r\n",
        "MAE(valorreal,valores)\r\n",
        "print(\"ARBOL DE REGRESION  //////////////////////////////////////////////////////////////////////////////////////////////////////////////////////\")\r\n",
        "valores1<-predict(model.cart,zillow)\r\n",
        "RMSE(valorreal,valores1)\r\n",
        "MAE(valorreal,valores1)\r\n",
        "print(\"RED NEURONAL /////////////////////////////////////////////////////////////////////////////////////////////////////////////////////////////\")\r\n",
        "valores2<-predict(model.nn,zillow)\r\n",
        "RMSE(valorreal,valores2)\r\n",
        "MAE(valorreal,valores2)"
      ],
      "execution_count": null,
      "outputs": []
    },
    {
      "cell_type": "code",
      "metadata": {
        "id": "NnunruYEMqm3"
      },
      "source": [
        "print(\"MODELO LINEAL ////////////////////////////////////////////////////////////////////////////////////////////////////////////////////////////\")\r\n",
        "valorreal<-test$price\r\n",
        "valores<-predict(model.lm,test)\r\n",
        "RMSE(valorreal,valores)\r\n",
        "MAE(valorreal,valores)\r\n",
        "print(\"ARBOL DE REGRESION  //////////////////////////////////////////////////////////////////////////////////////////////////////////////////////\")\r\n",
        "valores1<-predict(model.cart,test)\r\n",
        "RMSE(valorreal,valores1)\r\n",
        "MAE(valorreal,valores1)\r\n",
        "print(\"RED NEURONAL /////////////////////////////////////////////////////////////////////////////////////////////////////////////////////////////\")\r\n",
        "valores2<-predict(model.nn,test)\r\n",
        "RMSE(valorreal,valores2)\r\n",
        "MAE(valorreal,valores2)"
      ],
      "execution_count": null,
      "outputs": []
    }
  ]
}