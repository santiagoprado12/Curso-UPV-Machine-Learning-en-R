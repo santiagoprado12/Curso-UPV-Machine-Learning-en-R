{
  "nbformat": 4,
  "nbformat_minor": 0,
  "metadata": {
    "colab": {
      "name": "Laboratorio partición datos y entrenamiento",
      "provenance": [],
      "collapsed_sections": [],
      "authorship_tag": "ABX9TyOine2XXPET22yTopP9KhSJ",
      "include_colab_link": true
    },
    "kernelspec": {
      "name": "ir",
      "display_name": "R"
    }
  },
  "cells": [
    {
      "cell_type": "markdown",
      "metadata": {
        "id": "view-in-github",
        "colab_type": "text"
      },
      "source": [
        "<a href=\"https://colab.research.google.com/github/santiagoprado12/Curso-UPV-Machine-Learning-en-R/blob/main/Laboratorio_partici%C3%B3n_datos_y_entrenamiento.ipynb\" target=\"_parent\"><img src=\"https://colab.research.google.com/assets/colab-badge.svg\" alt=\"Open In Colab\"/></a>"
      ]
    },
    {
      "cell_type": "markdown",
      "metadata": {
        "id": "1ntXIzpFd9m_"
      },
      "source": [
        "# **PARTICIONAMIENTO DE LOS DATOS**"
      ]
    },
    {
      "cell_type": "code",
      "metadata": {
        "id": "UjM9p11iZIWB"
      },
      "source": [
        "data(\"iris\")\r\n",
        "head(iris)"
      ],
      "execution_count": null,
      "outputs": []
    },
    {
      "cell_type": "code",
      "metadata": {
        "id": "aW5YzoLieBRc"
      },
      "source": [
        "iris$Species\r\n",
        "iris$Species=as.factor(iris$Species)"
      ],
      "execution_count": null,
      "outputs": []
    },
    {
      "cell_type": "code",
      "metadata": {
        "id": "STZZhO0wmyTY"
      },
      "source": [
        "install.packages(\"C50\")"
      ],
      "execution_count": null,
      "outputs": []
    },
    {
      "cell_type": "code",
      "metadata": {
        "id": "0IMo0pbXnlXK"
      },
      "source": [
        "install.packages(\"e1071\")"
      ],
      "execution_count": null,
      "outputs": []
    },
    {
      "cell_type": "code",
      "metadata": {
        "id": "ZA-BAyi7eUHK"
      },
      "source": [
        "install.packages(\"caret\")\r\n",
        "library(\"caret\")"
      ],
      "execution_count": null,
      "outputs": []
    },
    {
      "cell_type": "code",
      "metadata": {
        "id": "pKlKi_T-jQJK"
      },
      "source": [
        "trainIndex <- createDataPartition(iris$Species, p =.8, list = FALSE, times = 1) #saca el 80% de datos para entrenar y el 20% para probar\r\n",
        "irisTrain <- iris[trainIndex,] #datos de entrenamiento\r\n",
        "irisTest <- iris[-trainIndex,] #datos de prueba"
      ],
      "execution_count": null,
      "outputs": []
    },
    {
      "cell_type": "code",
      "metadata": {
        "id": "DGnPY-oWkClT"
      },
      "source": [
        "fitControl <- trainControl(method = \"cv\", number =10) # EVALUACIÓN MEDIANTE VALIDACIÓN CRUZADA (10 FOLDS)\r\n",
        "set.seed(100) #FIJAMOS LA SEMILLA PARA ASEGURAR LA REPRODUCIBILIDAD\r\n",
        "DTFit <- train (Species ~., data =irisTrain, method = \"C5.0\", trControl = fitControl, verbose = FALSE) #entrenamiento arbol de decision y tipo de entrenamiento=10 false de validacion cruzada"
      ],
      "execution_count": null,
      "outputs": []
    },
    {
      "cell_type": "markdown",
      "metadata": {
        "id": "h7lFn_2HDdOw"
      },
      "source": [
        "# **ENTRENAMIENTO DEL MODELO**"
      ]
    },
    {
      "cell_type": "code",
      "metadata": {
        "id": "w-iRtsqfDjRD"
      },
      "source": [
        "fitControl <- trainControl(method = \"cv\", number =10) # EVALUACIÓN MEDIANTE VALIDACIÓN CRUZADA (10 FOLDS)\r\n",
        "DTFit <- train (Species ~., data =irisTrain, method = \"C5.0\", trControl = fitControl, verbose = FALSE) #entrenamiento arbol de decision y tipo de entrenamiento=10 false de validacion cruzada"
      ],
      "execution_count": null,
      "outputs": []
    },
    {
      "cell_type": "code",
      "metadata": {
        "id": "yAhrnGs9EqE6"
      },
      "source": [
        "DTFit"
      ],
      "execution_count": null,
      "outputs": []
    },
    {
      "cell_type": "code",
      "metadata": {
        "id": "Wg708DEYFk10"
      },
      "source": [
        "Irisprediction=predict(DTFit,irisTest)\r\n",
        "Irisprediction\r\n",
        "confusionMatrix(Irisprediction,irisTest$Species)"
      ],
      "execution_count": null,
      "outputs": []
    }
  ]
}