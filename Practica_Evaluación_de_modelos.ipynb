{
  "nbformat": 4,
  "nbformat_minor": 0,
  "metadata": {
    "colab": {
      "name": "Practica: Evaluación de modelos",
      "provenance": [],
      "collapsed_sections": [],
      "authorship_tag": "ABX9TyM7Y4N8YF3H4cjZPw+chuuf",
      "include_colab_link": true
    },
    "kernelspec": {
      "name": "ir",
      "display_name": "R"
    }
  },
  "cells": [
    {
      "cell_type": "markdown",
      "metadata": {
        "id": "view-in-github",
        "colab_type": "text"
      },
      "source": [
        "<a href=\"https://colab.research.google.com/github/santiagoprado12/prueba/blob/main/Practica_Evaluaci%C3%B3n_de_modelos.ipynb\" target=\"_parent\"><img src=\"https://colab.research.google.com/assets/colab-badge.svg\" alt=\"Open In Colab\"/></a>"
      ]
    },
    {
      "cell_type": "code",
      "metadata": {
        "id": "_fae1Hqzrhl4"
      },
      "source": [
        "install.packages(\"klaR\")\r\n",
        "install.packages(\"C50\")\r\n",
        "install.packages(\"nnet\")\r\n",
        "install.packages(\"kernlab\")\r\n",
        "install.packages(\"caret\")\r\n",
        "install.packages(\"dplyr\")"
      ],
      "execution_count": null,
      "outputs": []
    },
    {
      "cell_type": "code",
      "metadata": {
        "id": "MNzri19nQow8"
      },
      "source": [
        "library(caret)\r\n",
        "library(klaR)\r\n",
        "library(C50)\r\n",
        "library(nnet)\r\n",
        "library(kernlab)\r\n",
        "library(dplyr)"
      ],
      "execution_count": null,
      "outputs": []
    },
    {
      "cell_type": "code",
      "metadata": {
        "id": "LKUnuFlsqKnI"
      },
      "source": [
        "ticData<-read.table(\"tic-tac-toe.data.txt\",header=F,sep=\",\")\r\n",
        "colnames(ticData)<-c(\"topl\",\"topm\",\"topr\",\"midl\",\"midm\",\"midr\",\"botl\",\"botm\",\"botr\", \"class\")\r\n",
        "head(ticData)\r\n",
        "complete.cases(ticData)"
      ],
      "execution_count": null,
      "outputs": []
    },
    {
      "cell_type": "code",
      "metadata": {
        "id": "ObP5YkzdOXmX"
      },
      "source": [
        "indices<-createDataPartition(ticData$class,p=0.7,list=FALSE)\r\n",
        "Train<-ticData[ indices,]\r\n",
        "Test<-ticData[-indices,]\r\n",
        "set.seed(10000)\r\n",
        "fitControl<-trainControl(method=\"cv\",number=10)\r\n",
        "DTFit<-train(class~.,data = Train,method=\"nb\",trControl = fitControl)\r\n",
        "DTFit1<-train(class~.,data = Train,method=\"C5.0\",trControl = fitControl)\r\n",
        "DTFit2<-train(class~.,data = Train,method=\"nnet\",trControl = fitControl)\r\n",
        "DTFit3<-train(class~.,data = Train,method=\"knn\",trControl = fitControl)\r\n",
        "DTFit4<-train(class~.,data = Train,method=\"svmLinear\",trControl = fitControl)\r\n",
        "print(\"Naïve Bayes\")\r\n",
        "DTFit\r\n",
        "print(\"Decision Tree\")\r\n",
        "DTFit1\r\n",
        "print(\"Neural Network\")\r\n",
        "DTFit2\r\n",
        "print(\"knn\")\r\n",
        "DTFit3\r\n",
        "print(\"Support Vector Machine\")\r\n",
        "DTFit4"
      ],
      "execution_count": null,
      "outputs": []
    },
    {
      "cell_type": "code",
      "metadata": {
        "colab": {
          "base_uri": "https://localhost:8080/",
          "height": 527
        },
        "id": "4eZole0oZBWA",
        "outputId": "f9a9267d-b5ec-43d5-e912-b1af13f1df39"
      },
      "source": [
        "prediccion<-predict(DTFit,Test)\r\n",
        "prediccion1<-predict(DTFit1,Test)\r\n",
        "prediccion2<-predict(DTFit2,Test)\r\n",
        "prediccion3<-predict(DTFit3,Test)\r\n",
        "prediccion4<-predict(DTFit4,Test)\r\n",
        "Tests<-as.factor(Test$class)\r\n",
        "CM<-confusionMatrix(prediccion,Tests)\r\n",
        "CM1<-confusionMatrix(prediccion1,Tests)\r\n",
        "CM2<-confusionMatrix(prediccion2,Tests)\r\n",
        "CM3<-confusionMatrix(prediccion3,Tests)\r\n",
        "CM4<-confusionMatrix(prediccion4,Tests)\r\n",
        "print(\"Naïve Bayes\")\r\n",
        "CM$table\r\n",
        "CM$overall[1]\r\n",
        "print(\"Decision Tree\")\r\n",
        "CM1$table\r\n",
        "CM1$overall[1]\r\n",
        "print(\"Neural Network\")\r\n",
        "CM2$table\r\n",
        "CM2$overall[1]\r\n",
        "print(\"knn\")\r\n",
        "CM3$table\r\n",
        "CM3$overall[1]\r\n",
        "print(\"Support Vector Machine\")\r\n",
        "CM4$table\r\n",
        "CM4$overall[1]"
      ],
      "execution_count": null,
      "outputs": [
        {
          "output_type": "stream",
          "text": [
            "[1] \"Naïve Bayes\"\n"
          ],
          "name": "stdout"
        },
        {
          "output_type": "display_data",
          "data": {
            "text/plain": [
              "          Reference\n",
              "Prediction negative positive\n",
              "  negative       56       41\n",
              "  positive       43      146"
            ]
          },
          "metadata": {
            "tags": []
          }
        },
        {
          "output_type": "display_data",
          "data": {
            "text/plain": [
              " Accuracy \n",
              "0.7062937 "
            ],
            "text/latex": "\\textbf{Accuracy:} 0.706293706293706",
            "text/markdown": "**Accuracy:** 0.706293706293706",
            "text/html": [
              "<strong>Accuracy:</strong> 0.706293706293706"
            ]
          },
          "metadata": {
            "tags": []
          }
        },
        {
          "output_type": "stream",
          "text": [
            "[1] \"Decision Tree\"\n"
          ],
          "name": "stdout"
        },
        {
          "output_type": "display_data",
          "data": {
            "text/plain": [
              "          Reference\n",
              "Prediction negative positive\n",
              "  negative       96        1\n",
              "  positive        3      186"
            ]
          },
          "metadata": {
            "tags": []
          }
        },
        {
          "output_type": "display_data",
          "data": {
            "text/plain": [
              "Accuracy \n",
              "0.986014 "
            ],
            "text/latex": "\\textbf{Accuracy:} 0.986013986013986",
            "text/markdown": "**Accuracy:** 0.986013986013986",
            "text/html": [
              "<strong>Accuracy:</strong> 0.986013986013986"
            ]
          },
          "metadata": {
            "tags": []
          }
        },
        {
          "output_type": "stream",
          "text": [
            "[1] \"Neural Network\"\n"
          ],
          "name": "stdout"
        },
        {
          "output_type": "display_data",
          "data": {
            "text/plain": [
              "          Reference\n",
              "Prediction negative positive\n",
              "  negative       92        0\n",
              "  positive        7      187"
            ]
          },
          "metadata": {
            "tags": []
          }
        },
        {
          "output_type": "display_data",
          "data": {
            "text/plain": [
              " Accuracy \n",
              "0.9755245 "
            ],
            "text/latex": "\\textbf{Accuracy:} 0.975524475524476",
            "text/markdown": "**Accuracy:** 0.975524475524476",
            "text/html": [
              "<strong>Accuracy:</strong> 0.975524475524476"
            ]
          },
          "metadata": {
            "tags": []
          }
        },
        {
          "output_type": "stream",
          "text": [
            "[1] \"knn\"\n"
          ],
          "name": "stdout"
        },
        {
          "output_type": "display_data",
          "data": {
            "text/plain": [
              "          Reference\n",
              "Prediction negative positive\n",
              "  negative       88        2\n",
              "  positive       11      185"
            ]
          },
          "metadata": {
            "tags": []
          }
        },
        {
          "output_type": "display_data",
          "data": {
            "text/plain": [
              " Accuracy \n",
              "0.9545455 "
            ],
            "text/latex": "\\textbf{Accuracy:} 0.954545454545455",
            "text/markdown": "**Accuracy:** 0.954545454545455",
            "text/html": [
              "<strong>Accuracy:</strong> 0.954545454545455"
            ]
          },
          "metadata": {
            "tags": []
          }
        },
        {
          "output_type": "stream",
          "text": [
            "[1] \"Support Vector Machine\"\n"
          ],
          "name": "stdout"
        },
        {
          "output_type": "display_data",
          "data": {
            "text/plain": [
              "          Reference\n",
              "Prediction negative positive\n",
              "  negative       92        0\n",
              "  positive        7      187"
            ]
          },
          "metadata": {
            "tags": []
          }
        },
        {
          "output_type": "display_data",
          "data": {
            "text/plain": [
              " Accuracy \n",
              "0.9755245 "
            ],
            "text/latex": "\\textbf{Accuracy:} 0.975524475524476",
            "text/markdown": "**Accuracy:** 0.975524475524476",
            "text/html": [
              "<strong>Accuracy:</strong> 0.975524475524476"
            ]
          },
          "metadata": {
            "tags": []
          }
        }
      ]
    }
  ]
}